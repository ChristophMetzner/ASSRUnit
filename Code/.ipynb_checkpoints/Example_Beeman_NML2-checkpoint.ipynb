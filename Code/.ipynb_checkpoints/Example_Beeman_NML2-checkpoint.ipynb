{
 "cells": [
  {
   "cell_type": "code",
   "execution_count": 1,
   "metadata": {
    "collapsed": false
   },
   "outputs": [
    {
     "name": "stderr",
     "output_type": "stream",
     "text": [
      "/usr/local/lib/python2.7/dist-packages/pandas-0.19.2-py2.7-linux-x86_64.egg/pandas/computation/__init__.py:19: UserWarning: The installed version of numexpr 2.4.4 is not supported in pandas and will be not be used\n",
      "\n",
      "  UserWarning)\n"
     ]
    }
   ],
   "source": [
    "import sciunit\n",
    "\n",
    "from capabilities2 import ProduceXY\n",
    "\n",
    "from models2 import BeemanNML2Model\n",
    "\n",
    "from tests2 import Test4040,Test3030,Test2020,Test2040,Test4020"
   ]
  },
  {
   "cell_type": "markdown",
   "metadata": {},
   "source": [
    "### Parameters"
   ]
  },
  {
   "cell_type": "code",
   "execution_count": 2,
   "metadata": {
    "collapsed": true
   },
   "outputs": [],
   "source": [
    "controlparams = {'Filename': 'control_model','Random Seed': 12345,'E-E Weight':30.0e-9,'I-E Weight':0.1e-9,'E-I Weight':0.6e-9,'I-I Weight':0.15e-9,'Background Noise Weight':80.0e-9,'E-Drive Weight':50.0e-9,'I-Drive Weight':1.5e-9,'Background Noise Frequency':8.0,'Simulation Time': 1000,'Time Step': 0.025}               \n",
    "\n",
    "schizparams = {'Filename': 'schiz_model','Random Seed': 12345,'E-E Weight':30.0e-9,'I-E Weight':0.05e-9,'E-I Weight':0.6e-9,'I-I Weight':0.15e-9,'Background Noise Weight':80.0e-9,'E-Drive Weight':50.0e-9,'I-Drive Weight':1.5e-9,'Background Noise Frequency':8.0,'Simulation Time': 1000,'Time Step': 0.025}  \n"
   ]
  },
  {
   "cell_type": "markdown",
   "metadata": {},
   "source": [
    "### Model"
   ]
  },
  {
   "cell_type": "code",
   "execution_count": 3,
   "metadata": {
    "collapsed": false
   },
   "outputs": [],
   "source": [
    "test_model = BeemanNML2Model(controlparams,schizparams)"
   ]
  },
  {
   "cell_type": "markdown",
   "metadata": {},
   "source": [
    "### Tests "
   ]
  },
  {
   "cell_type": "code",
   "execution_count": 4,
   "metadata": {
    "collapsed": false,
    "scrolled": false
   },
   "outputs": [
    {
     "name": "stdout",
     "output_type": "stream",
     "text": [
      "Generating control model\n",
      "Generated network with 15929 exc_exc, 11912 exc_inh, 15974 inh_exc, 3996 inh_inh connections\n",
      "Saving to file...\n",
      "Written network file to: control_model_doc.net.nml\n",
      "Validating control_model_doc.net.nml against /usr/local/lib/python2.7/dist-packages/libNeuroML-0.2.14-py2.7.egg/neuroml/nml/NeuroML_v2beta4.xsd\n",
      "It's valid!\n",
      "-----------------------------------\n",
      "pyNeuroML >>> Including in generated LEMS file: control_model_doc.net.nml (/home/cm15acr/ASSRUnit/Code/control_model_doc.net.nml)\n",
      "pyNeuroML >>> Including in generated LEMS file: ACnet2_NML2/Cells/pyr_4_sym.cell.nml (/home/cm15acr/ASSRUnit/Code/ACnet2_NML2/Cells/pyr_4_sym.cell.nml)\n",
      "pyNeuroML >>> Including in generated LEMS file: Ca_conc.nml (/home/cm15acr/ASSRUnit/Code/ACnet2_NML2/Cells/Ca_conc.nml)\n",
      "pyNeuroML >>> Including in generated LEMS file: Ca_pyr.channel.nml (/home/cm15acr/ASSRUnit/Code/ACnet2_NML2/Cells/Ca_pyr.channel.nml)\n",
      "pyNeuroML >>> Including in generated LEMS file: Kahp_pyr.channel.nml (/home/cm15acr/ASSRUnit/Code/ACnet2_NML2/Cells/Kahp_pyr.channel.nml)\n",
      "pyNeuroML >>> Including in generated LEMS file: Kdr_pyr.channel.nml (/home/cm15acr/ASSRUnit/Code/ACnet2_NML2/Cells/Kdr_pyr.channel.nml)\n",
      "pyNeuroML >>> Including in generated LEMS file: LeakConductance_pyr.channel.nml (/home/cm15acr/ASSRUnit/Code/ACnet2_NML2/Cells/LeakConductance_pyr.channel.nml)\n",
      "pyNeuroML >>> Including in generated LEMS file: Na_pyr.channel.nml (/home/cm15acr/ASSRUnit/Code/ACnet2_NML2/Cells/Na_pyr.channel.nml)\n",
      "pyNeuroML >>> Including in generated LEMS file: ACnet2_NML2/Cells/bask.cell.nml (/home/cm15acr/ASSRUnit/Code/ACnet2_NML2/Cells/bask.cell.nml)\n",
      "pyNeuroML >>> Including in generated LEMS file: Kdr_bask.channel.nml (/home/cm15acr/ASSRUnit/Code/ACnet2_NML2/Cells/Kdr_bask.channel.nml)\n",
      "pyNeuroML >>> Including in generated LEMS file: LeakConductance_bask.channel.nml (/home/cm15acr/ASSRUnit/Code/ACnet2_NML2/Cells/LeakConductance_bask.channel.nml)\n",
      "pyNeuroML >>> Including in generated LEMS file: Na_bask.channel.nml (/home/cm15acr/ASSRUnit/Code/ACnet2_NML2/Cells/Na_bask.channel.nml)\n",
      "pyNeuroML >>> Including in generated LEMS file: ACnet2_NML2/Synapses/AMPA_syn.synapse.nml (/home/cm15acr/ASSRUnit/Code/ACnet2_NML2/Synapses/AMPA_syn.synapse.nml)\n",
      "pyNeuroML >>> Including in generated LEMS file: ACnet2_NML2/Synapses/AMPA_syn_inh.synapse.nml (/home/cm15acr/ASSRUnit/Code/ACnet2_NML2/Synapses/AMPA_syn_inh.synapse.nml)\n",
      "pyNeuroML >>> Including in generated LEMS file: ACnet2_NML2/Synapses/GABA_syn.synapse.nml (/home/cm15acr/ASSRUnit/Code/ACnet2_NML2/Synapses/GABA_syn.synapse.nml)\n",
      "pyNeuroML >>> Including in generated LEMS file: ACnet2_NML2/Synapses/GABA_syn_inh.synapse.nml (/home/cm15acr/ASSRUnit/Code/ACnet2_NML2/Synapses/GABA_syn_inh.synapse.nml)\n",
      "pyNeuroML >>> Including in generated LEMS file: ACnet2_NML2/Synapses/bg_AMPA_syn.synapse.nml (/home/cm15acr/ASSRUnit/Code/ACnet2_NML2/Synapses/bg_AMPA_syn.synapse.nml)\n",
      "pyNeuroML >>> Written LEMS Simulation control_model to file: LEMS_control_model.xml\n",
      "Running control model\n",
      "pyNeuroML >>> Loading NeuroML2 file: control_model_doc.net.nml\n",
      "pyNeuroML >>> Including included files (included already: [])\n",
      "pyNeuroML >>> Loading included NeuroML2 file: ACnet2_NML2/Cells/pyr_4_sym.cell.nml (base: /home/cm15acr/ASSRUnit/Code, resolved: /home/cm15acr/ASSRUnit/Code/ACnet2_NML2/Cells/pyr_4_sym.cell.nml)\n",
      "pyNeuroML >>> Loading NeuroML2 file: /home/cm15acr/ASSRUnit/Code/ACnet2_NML2/Cells/pyr_4_sym.cell.nml\n",
      "pyNeuroML >>> Including included files (included already: [])\n",
      "pyNeuroML >>> Loading included NeuroML2 file: Ca_conc.nml (base: /home/cm15acr/ASSRUnit/Code/ACnet2_NML2/Cells, resolved: /home/cm15acr/ASSRUnit/Code/ACnet2_NML2/Cells/Ca_conc.nml)\n",
      "pyNeuroML >>> Loading NeuroML2 file: /home/cm15acr/ASSRUnit/Code/ACnet2_NML2/Cells/Ca_conc.nml\n",
      "pyNeuroML >>> Including included files (included already: [])\n",
      "pyNeuroML >>> Loading included NeuroML2 file: Ca_pyr.channel.nml (base: /home/cm15acr/ASSRUnit/Code/ACnet2_NML2/Cells, resolved: /home/cm15acr/ASSRUnit/Code/ACnet2_NML2/Cells/Ca_pyr.channel.nml)\n",
      "pyNeuroML >>> Loading NeuroML2 file: /home/cm15acr/ASSRUnit/Code/ACnet2_NML2/Cells/Ca_pyr.channel.nml\n",
      "pyNeuroML >>> Including included files (included already: ['/home/cm15acr/ASSRUnit/Code/ACnet2_NML2/Cells/Ca_conc.nml'])\n",
      "pyNeuroML >>> Loading included NeuroML2 file: Kahp_pyr.channel.nml (base: /home/cm15acr/ASSRUnit/Code/ACnet2_NML2/Cells, resolved: /home/cm15acr/ASSRUnit/Code/ACnet2_NML2/Cells/Kahp_pyr.channel.nml)\n",
      "pyNeuroML >>> Loading NeuroML2 file: /home/cm15acr/ASSRUnit/Code/ACnet2_NML2/Cells/Kahp_pyr.channel.nml\n",
      "pyNeuroML >>> Including included files (included already: ['/home/cm15acr/ASSRUnit/Code/ACnet2_NML2/Cells/Ca_conc.nml', '/home/cm15acr/ASSRUnit/Code/ACnet2_NML2/Cells/Ca_pyr.channel.nml'])\n",
      "pyNeuroML >>> Loading included NeuroML2 file: Kdr_pyr.channel.nml (base: /home/cm15acr/ASSRUnit/Code/ACnet2_NML2/Cells, resolved: /home/cm15acr/ASSRUnit/Code/ACnet2_NML2/Cells/Kdr_pyr.channel.nml)\n",
      "pyNeuroML >>> Loading NeuroML2 file: /home/cm15acr/ASSRUnit/Code/ACnet2_NML2/Cells/Kdr_pyr.channel.nml\n",
      "pyNeuroML >>> Including included files (included already: ['/home/cm15acr/ASSRUnit/Code/ACnet2_NML2/Cells/Ca_conc.nml', '/home/cm15acr/ASSRUnit/Code/ACnet2_NML2/Cells/Ca_pyr.channel.nml', '/home/cm15acr/ASSRUnit/Code/ACnet2_NML2/Cells/Kahp_pyr.channel.nml'])\n",
      "pyNeuroML >>> Loading included NeuroML2 file: LeakConductance_pyr.channel.nml (base: /home/cm15acr/ASSRUnit/Code/ACnet2_NML2/Cells, resolved: /home/cm15acr/ASSRUnit/Code/ACnet2_NML2/Cells/LeakConductance_pyr.channel.nml)\n",
      "pyNeuroML >>> Loading NeuroML2 file: /home/cm15acr/ASSRUnit/Code/ACnet2_NML2/Cells/LeakConductance_pyr.channel.nml\n",
      "pyNeuroML >>> Including included files (included already: ['/home/cm15acr/ASSRUnit/Code/ACnet2_NML2/Cells/Ca_conc.nml', '/home/cm15acr/ASSRUnit/Code/ACnet2_NML2/Cells/Ca_pyr.channel.nml', '/home/cm15acr/ASSRUnit/Code/ACnet2_NML2/Cells/Kahp_pyr.channel.nml', '/home/cm15acr/ASSRUnit/Code/ACnet2_NML2/Cells/Kdr_pyr.channel.nml'])\n",
      "pyNeuroML >>> Loading included NeuroML2 file: Na_pyr.channel.nml (base: /home/cm15acr/ASSRUnit/Code/ACnet2_NML2/Cells, resolved: /home/cm15acr/ASSRUnit/Code/ACnet2_NML2/Cells/Na_pyr.channel.nml)\n",
      "pyNeuroML >>> Loading NeuroML2 file: /home/cm15acr/ASSRUnit/Code/ACnet2_NML2/Cells/Na_pyr.channel.nml\n",
      "pyNeuroML >>> Including included files (included already: ['/home/cm15acr/ASSRUnit/Code/ACnet2_NML2/Cells/Ca_conc.nml', '/home/cm15acr/ASSRUnit/Code/ACnet2_NML2/Cells/Ca_pyr.channel.nml', '/home/cm15acr/ASSRUnit/Code/ACnet2_NML2/Cells/Kahp_pyr.channel.nml', '/home/cm15acr/ASSRUnit/Code/ACnet2_NML2/Cells/Kdr_pyr.channel.nml', '/home/cm15acr/ASSRUnit/Code/ACnet2_NML2/Cells/LeakConductance_pyr.channel.nml'])\n",
      "pyNeuroML >>> Loading included NeuroML2 file: ACnet2_NML2/Cells/bask.cell.nml (base: /home/cm15acr/ASSRUnit/Code, resolved: /home/cm15acr/ASSRUnit/Code/ACnet2_NML2/Cells/bask.cell.nml)\n",
      "pyNeuroML >>> Loading NeuroML2 file: /home/cm15acr/ASSRUnit/Code/ACnet2_NML2/Cells/bask.cell.nml\n",
      "pyNeuroML >>> Including included files (included already: ['/home/cm15acr/ASSRUnit/Code/ACnet2_NML2/Cells/Ca_conc.nml', '/home/cm15acr/ASSRUnit/Code/ACnet2_NML2/Cells/Ca_pyr.channel.nml', '/home/cm15acr/ASSRUnit/Code/ACnet2_NML2/Cells/Kahp_pyr.channel.nml', '/home/cm15acr/ASSRUnit/Code/ACnet2_NML2/Cells/Kdr_pyr.channel.nml', '/home/cm15acr/ASSRUnit/Code/ACnet2_NML2/Cells/LeakConductance_pyr.channel.nml', '/home/cm15acr/ASSRUnit/Code/ACnet2_NML2/Cells/Na_pyr.channel.nml', '/home/cm15acr/ASSRUnit/Code/ACnet2_NML2/Cells/pyr_4_sym.cell.nml'])\n",
      "pyNeuroML >>> Loading included NeuroML2 file: Kdr_bask.channel.nml (base: /home/cm15acr/ASSRUnit/Code/ACnet2_NML2/Cells, resolved: /home/cm15acr/ASSRUnit/Code/ACnet2_NML2/Cells/Kdr_bask.channel.nml)\n",
      "pyNeuroML >>> Loading NeuroML2 file: /home/cm15acr/ASSRUnit/Code/ACnet2_NML2/Cells/Kdr_bask.channel.nml\n",
      "pyNeuroML >>> Including included files (included already: ['/home/cm15acr/ASSRUnit/Code/ACnet2_NML2/Cells/Ca_conc.nml', '/home/cm15acr/ASSRUnit/Code/ACnet2_NML2/Cells/Ca_pyr.channel.nml', '/home/cm15acr/ASSRUnit/Code/ACnet2_NML2/Cells/Kahp_pyr.channel.nml', '/home/cm15acr/ASSRUnit/Code/ACnet2_NML2/Cells/Kdr_pyr.channel.nml', '/home/cm15acr/ASSRUnit/Code/ACnet2_NML2/Cells/LeakConductance_pyr.channel.nml', '/home/cm15acr/ASSRUnit/Code/ACnet2_NML2/Cells/Na_pyr.channel.nml', '/home/cm15acr/ASSRUnit/Code/ACnet2_NML2/Cells/pyr_4_sym.cell.nml'])\n",
      "pyNeuroML >>> Loading included NeuroML2 file: LeakConductance_bask.channel.nml (base: /home/cm15acr/ASSRUnit/Code/ACnet2_NML2/Cells, resolved: /home/cm15acr/ASSRUnit/Code/ACnet2_NML2/Cells/LeakConductance_bask.channel.nml)\n",
      "pyNeuroML >>> Loading NeuroML2 file: /home/cm15acr/ASSRUnit/Code/ACnet2_NML2/Cells/LeakConductance_bask.channel.nml\n",
      "pyNeuroML >>> Including included files (included already: ['/home/cm15acr/ASSRUnit/Code/ACnet2_NML2/Cells/Ca_conc.nml', '/home/cm15acr/ASSRUnit/Code/ACnet2_NML2/Cells/Ca_pyr.channel.nml', '/home/cm15acr/ASSRUnit/Code/ACnet2_NML2/Cells/Kahp_pyr.channel.nml', '/home/cm15acr/ASSRUnit/Code/ACnet2_NML2/Cells/Kdr_pyr.channel.nml', '/home/cm15acr/ASSRUnit/Code/ACnet2_NML2/Cells/LeakConductance_pyr.channel.nml', '/home/cm15acr/ASSRUnit/Code/ACnet2_NML2/Cells/Na_pyr.channel.nml', '/home/cm15acr/ASSRUnit/Code/ACnet2_NML2/Cells/pyr_4_sym.cell.nml', '/home/cm15acr/ASSRUnit/Code/ACnet2_NML2/Cells/Kdr_bask.channel.nml'])\n",
      "pyNeuroML >>> Loading included NeuroML2 file: Na_bask.channel.nml (base: /home/cm15acr/ASSRUnit/Code/ACnet2_NML2/Cells, resolved: /home/cm15acr/ASSRUnit/Code/ACnet2_NML2/Cells/Na_bask.channel.nml)\n",
      "pyNeuroML >>> Loading NeuroML2 file: /home/cm15acr/ASSRUnit/Code/ACnet2_NML2/Cells/Na_bask.channel.nml\n",
      "pyNeuroML >>> Including included files (included already: ['/home/cm15acr/ASSRUnit/Code/ACnet2_NML2/Cells/Ca_conc.nml', '/home/cm15acr/ASSRUnit/Code/ACnet2_NML2/Cells/Ca_pyr.channel.nml', '/home/cm15acr/ASSRUnit/Code/ACnet2_NML2/Cells/Kahp_pyr.channel.nml', '/home/cm15acr/ASSRUnit/Code/ACnet2_NML2/Cells/Kdr_pyr.channel.nml', '/home/cm15acr/ASSRUnit/Code/ACnet2_NML2/Cells/LeakConductance_pyr.channel.nml', '/home/cm15acr/ASSRUnit/Code/ACnet2_NML2/Cells/Na_pyr.channel.nml', '/home/cm15acr/ASSRUnit/Code/ACnet2_NML2/Cells/pyr_4_sym.cell.nml', '/home/cm15acr/ASSRUnit/Code/ACnet2_NML2/Cells/Kdr_bask.channel.nml', '/home/cm15acr/ASSRUnit/Code/ACnet2_NML2/Cells/LeakConductance_bask.channel.nml'])\n",
      "pyNeuroML >>> Loading included NeuroML2 file: ACnet2_NML2/Synapses/AMPA_syn.synapse.nml (base: /home/cm15acr/ASSRUnit/Code, resolved: /home/cm15acr/ASSRUnit/Code/ACnet2_NML2/Synapses/AMPA_syn.synapse.nml)\n",
      "pyNeuroML >>> Loading NeuroML2 file: /home/cm15acr/ASSRUnit/Code/ACnet2_NML2/Synapses/AMPA_syn.synapse.nml\n",
      "pyNeuroML >>> Including included files (included already: ['/home/cm15acr/ASSRUnit/Code/ACnet2_NML2/Cells/Ca_conc.nml', '/home/cm15acr/ASSRUnit/Code/ACnet2_NML2/Cells/Ca_pyr.channel.nml', '/home/cm15acr/ASSRUnit/Code/ACnet2_NML2/Cells/Kahp_pyr.channel.nml', '/home/cm15acr/ASSRUnit/Code/ACnet2_NML2/Cells/Kdr_pyr.channel.nml', '/home/cm15acr/ASSRUnit/Code/ACnet2_NML2/Cells/LeakConductance_pyr.channel.nml', '/home/cm15acr/ASSRUnit/Code/ACnet2_NML2/Cells/Na_pyr.channel.nml', '/home/cm15acr/ASSRUnit/Code/ACnet2_NML2/Cells/pyr_4_sym.cell.nml', '/home/cm15acr/ASSRUnit/Code/ACnet2_NML2/Cells/Kdr_bask.channel.nml', '/home/cm15acr/ASSRUnit/Code/ACnet2_NML2/Cells/LeakConductance_bask.channel.nml', '/home/cm15acr/ASSRUnit/Code/ACnet2_NML2/Cells/Na_bask.channel.nml', '/home/cm15acr/ASSRUnit/Code/ACnet2_NML2/Cells/bask.cell.nml'])\n",
      "pyNeuroML >>> Loading included NeuroML2 file: ACnet2_NML2/Synapses/AMPA_syn_inh.synapse.nml (base: /home/cm15acr/ASSRUnit/Code, resolved: /home/cm15acr/ASSRUnit/Code/ACnet2_NML2/Synapses/AMPA_syn_inh.synapse.nml)\n",
      "pyNeuroML >>> Loading NeuroML2 file: /home/cm15acr/ASSRUnit/Code/ACnet2_NML2/Synapses/AMPA_syn_inh.synapse.nml\n",
      "pyNeuroML >>> Including included files (included already: ['/home/cm15acr/ASSRUnit/Code/ACnet2_NML2/Cells/Ca_conc.nml', '/home/cm15acr/ASSRUnit/Code/ACnet2_NML2/Cells/Ca_pyr.channel.nml', '/home/cm15acr/ASSRUnit/Code/ACnet2_NML2/Cells/Kahp_pyr.channel.nml', '/home/cm15acr/ASSRUnit/Code/ACnet2_NML2/Cells/Kdr_pyr.channel.nml', '/home/cm15acr/ASSRUnit/Code/ACnet2_NML2/Cells/LeakConductance_pyr.channel.nml', '/home/cm15acr/ASSRUnit/Code/ACnet2_NML2/Cells/Na_pyr.channel.nml', '/home/cm15acr/ASSRUnit/Code/ACnet2_NML2/Cells/pyr_4_sym.cell.nml', '/home/cm15acr/ASSRUnit/Code/ACnet2_NML2/Cells/Kdr_bask.channel.nml', '/home/cm15acr/ASSRUnit/Code/ACnet2_NML2/Cells/LeakConductance_bask.channel.nml', '/home/cm15acr/ASSRUnit/Code/ACnet2_NML2/Cells/Na_bask.channel.nml', '/home/cm15acr/ASSRUnit/Code/ACnet2_NML2/Cells/bask.cell.nml', '/home/cm15acr/ASSRUnit/Code/ACnet2_NML2/Synapses/AMPA_syn.synapse.nml'])\n",
      "pyNeuroML >>> Loading included NeuroML2 file: ACnet2_NML2/Synapses/GABA_syn.synapse.nml (base: /home/cm15acr/ASSRUnit/Code, resolved: /home/cm15acr/ASSRUnit/Code/ACnet2_NML2/Synapses/GABA_syn.synapse.nml)\n",
      "pyNeuroML >>> Loading NeuroML2 file: /home/cm15acr/ASSRUnit/Code/ACnet2_NML2/Synapses/GABA_syn.synapse.nml\n",
      "pyNeuroML >>> Including included files (included already: ['/home/cm15acr/ASSRUnit/Code/ACnet2_NML2/Cells/Ca_conc.nml', '/home/cm15acr/ASSRUnit/Code/ACnet2_NML2/Cells/Ca_pyr.channel.nml', '/home/cm15acr/ASSRUnit/Code/ACnet2_NML2/Cells/Kahp_pyr.channel.nml', '/home/cm15acr/ASSRUnit/Code/ACnet2_NML2/Cells/Kdr_pyr.channel.nml', '/home/cm15acr/ASSRUnit/Code/ACnet2_NML2/Cells/LeakConductance_pyr.channel.nml', '/home/cm15acr/ASSRUnit/Code/ACnet2_NML2/Cells/Na_pyr.channel.nml', '/home/cm15acr/ASSRUnit/Code/ACnet2_NML2/Cells/pyr_4_sym.cell.nml', '/home/cm15acr/ASSRUnit/Code/ACnet2_NML2/Cells/Kdr_bask.channel.nml', '/home/cm15acr/ASSRUnit/Code/ACnet2_NML2/Cells/LeakConductance_bask.channel.nml', '/home/cm15acr/ASSRUnit/Code/ACnet2_NML2/Cells/Na_bask.channel.nml', '/home/cm15acr/ASSRUnit/Code/ACnet2_NML2/Cells/bask.cell.nml', '/home/cm15acr/ASSRUnit/Code/ACnet2_NML2/Synapses/AMPA_syn.synapse.nml', '/home/cm15acr/ASSRUnit/Code/ACnet2_NML2/Synapses/AMPA_syn_inh.synapse.nml'])\n",
      "pyNeuroML >>> Loading included NeuroML2 file: ACnet2_NML2/Synapses/GABA_syn_inh.synapse.nml (base: /home/cm15acr/ASSRUnit/Code, resolved: /home/cm15acr/ASSRUnit/Code/ACnet2_NML2/Synapses/GABA_syn_inh.synapse.nml)\n",
      "pyNeuroML >>> Loading NeuroML2 file: /home/cm15acr/ASSRUnit/Code/ACnet2_NML2/Synapses/GABA_syn_inh.synapse.nml\n",
      "pyNeuroML >>> Including included files (included already: ['/home/cm15acr/ASSRUnit/Code/ACnet2_NML2/Cells/Ca_conc.nml', '/home/cm15acr/ASSRUnit/Code/ACnet2_NML2/Cells/Ca_pyr.channel.nml', '/home/cm15acr/ASSRUnit/Code/ACnet2_NML2/Cells/Kahp_pyr.channel.nml', '/home/cm15acr/ASSRUnit/Code/ACnet2_NML2/Cells/Kdr_pyr.channel.nml', '/home/cm15acr/ASSRUnit/Code/ACnet2_NML2/Cells/LeakConductance_pyr.channel.nml', '/home/cm15acr/ASSRUnit/Code/ACnet2_NML2/Cells/Na_pyr.channel.nml', '/home/cm15acr/ASSRUnit/Code/ACnet2_NML2/Cells/pyr_4_sym.cell.nml', '/home/cm15acr/ASSRUnit/Code/ACnet2_NML2/Cells/Kdr_bask.channel.nml', '/home/cm15acr/ASSRUnit/Code/ACnet2_NML2/Cells/LeakConductance_bask.channel.nml', '/home/cm15acr/ASSRUnit/Code/ACnet2_NML2/Cells/Na_bask.channel.nml', '/home/cm15acr/ASSRUnit/Code/ACnet2_NML2/Cells/bask.cell.nml', '/home/cm15acr/ASSRUnit/Code/ACnet2_NML2/Synapses/AMPA_syn.synapse.nml', '/home/cm15acr/ASSRUnit/Code/ACnet2_NML2/Synapses/AMPA_syn_inh.synapse.nml', '/home/cm15acr/ASSRUnit/Code/ACnet2_NML2/Synapses/GABA_syn.synapse.nml'])\n",
      "pyNeuroML >>> Loading included NeuroML2 file: ACnet2_NML2/Synapses/bg_AMPA_syn.synapse.nml (base: /home/cm15acr/ASSRUnit/Code, resolved: /home/cm15acr/ASSRUnit/Code/ACnet2_NML2/Synapses/bg_AMPA_syn.synapse.nml)\n",
      "pyNeuroML >>> Loading NeuroML2 file: /home/cm15acr/ASSRUnit/Code/ACnet2_NML2/Synapses/bg_AMPA_syn.synapse.nml\n",
      "pyNeuroML >>> Including included files (included already: ['/home/cm15acr/ASSRUnit/Code/ACnet2_NML2/Cells/Ca_conc.nml', '/home/cm15acr/ASSRUnit/Code/ACnet2_NML2/Cells/Ca_pyr.channel.nml', '/home/cm15acr/ASSRUnit/Code/ACnet2_NML2/Cells/Kahp_pyr.channel.nml', '/home/cm15acr/ASSRUnit/Code/ACnet2_NML2/Cells/Kdr_pyr.channel.nml', '/home/cm15acr/ASSRUnit/Code/ACnet2_NML2/Cells/LeakConductance_pyr.channel.nml', '/home/cm15acr/ASSRUnit/Code/ACnet2_NML2/Cells/Na_pyr.channel.nml', '/home/cm15acr/ASSRUnit/Code/ACnet2_NML2/Cells/pyr_4_sym.cell.nml', '/home/cm15acr/ASSRUnit/Code/ACnet2_NML2/Cells/Kdr_bask.channel.nml', '/home/cm15acr/ASSRUnit/Code/ACnet2_NML2/Cells/LeakConductance_bask.channel.nml', '/home/cm15acr/ASSRUnit/Code/ACnet2_NML2/Cells/Na_bask.channel.nml', '/home/cm15acr/ASSRUnit/Code/ACnet2_NML2/Cells/bask.cell.nml', '/home/cm15acr/ASSRUnit/Code/ACnet2_NML2/Synapses/AMPA_syn.synapse.nml', '/home/cm15acr/ASSRUnit/Code/ACnet2_NML2/Synapses/AMPA_syn_inh.synapse.nml', '/home/cm15acr/ASSRUnit/Code/ACnet2_NML2/Synapses/GABA_syn.synapse.nml', '/home/cm15acr/ASSRUnit/Code/ACnet2_NML2/Synapses/GABA_syn_inh.synapse.nml'])\n",
      "pyNeuroML >>> Running a simulation of 1000 ms with timestep 0.025 ms: LEMS_control_model.xml\n",
      "jNeuroML_NEURON\n",
      "pyNeuroML >>> Executing: (java -Xmx8000M  -Djava.awt.headless=true -jar  \"/usr/local/lib/python2.7/dist-packages/pyNeuroML-0.1.12-py2.7.egg/pyneuroml/lib/jNeuroML-0.7.6-jar-with-dependencies.jar\"  LEMS_control_model.xml  -neuron -run -nogui) in directory: ./\n"
     ]
    },
    {
     "ename": "SystemExit",
     "evalue": "-1",
     "output_type": "error",
     "traceback": [
      "An exception has occurred, use %tb to see the full traceback.\n",
      "\u001b[0;31mSystemExit\u001b[0m\u001b[0;31m:\u001b[0m -1\n"
     ]
    },
    {
     "name": "stderr",
     "output_type": "stream",
     "text": [
      "/usr/local/lib/python2.7/dist-packages/IPython/core/interactiveshell.py:2889: UserWarning: To exit: use 'exit', 'quit', or Ctrl-D.\n",
      "  warn(\"To exit: use 'exit', 'quit', or Ctrl-D.\", stacklevel=1)\n"
     ]
    }
   ],
   "source": [
    "test_4040 = Test4040(observation={'ratio':0.5})\n",
    "score_4040 = test_4040.judge(test_model)\n",
    "'''\n",
    "test_3030 = Test3030(observation={'ratio':1.0})\n",
    "score_3030 = test_3030.judge(test_model)\n",
    "\n",
    "test_2020 = Test2020(observation={'ratio':1.0})\n",
    "score_2020 = test_2020.judge(test_model)\n",
    "\n",
    "test_2040 = Test2040(observation={'ratio':1.0})\n",
    "score_2040 = test_2040.judge(test_model)\n",
    "\n",
    "test_4020 = Test4020(observation={'ratio':1.0})\n",
    "score_4020 = test_4020.judge(test_model)\n",
    "'''\n",
    "print '\\n\\n Results 4040:\\n'\n",
    "print score_4040\n",
    "'''\n",
    "print '\\n Results 3030:\\n'\n",
    "print score_3030\n",
    "print '\\n Results 2020:\\n'\n",
    "print score_2020\n",
    "print '\\n Results 2040:\\n'\n",
    "print score_2040\n",
    "print '\\n Results 4020:\\n'\n",
    "print score_4020\n",
    "'''"
   ]
  },
  {
   "cell_type": "code",
   "execution_count": null,
   "metadata": {
    "collapsed": true
   },
   "outputs": [],
   "source": []
  }
 ],
 "metadata": {
  "kernelspec": {
   "display_name": "Python 2",
   "language": "python",
   "name": "python2"
  },
  "language_info": {
   "codemirror_mode": {
    "name": "ipython",
    "version": 2
   },
   "file_extension": ".py",
   "mimetype": "text/x-python",
   "name": "python",
   "nbconvert_exporter": "python",
   "pygments_lexer": "ipython2",
   "version": "2.7.9"
  }
 },
 "nbformat": 4,
 "nbformat_minor": 1
}
