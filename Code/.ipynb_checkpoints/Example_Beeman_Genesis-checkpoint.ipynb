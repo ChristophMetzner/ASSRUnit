{
 "cells": [
  {
   "cell_type": "code",
   "execution_count": 5,
   "metadata": {
    "collapsed": false
   },
   "outputs": [],
   "source": [
    "import sciunit\n",
    "\n",
    "from capabilities2 import ProduceXY\n",
    "\n",
    "from models2 import BeemanGenesisModel\n",
    "\n",
    "from tests2 import Test4040,Test3030,Test2020,Test2040,Test4020"
   ]
  },
  {
   "cell_type": "markdown",
   "metadata": {},
   "source": [
    "### Parameters"
   ]
  },
  {
   "cell_type": "code",
   "execution_count": 6,
   "metadata": {
    "collapsed": true
   },
   "outputs": [],
   "source": [
    "controlparams = {'Filename': 'control_model','Random Seed': 12345,'E-E Weight':30.0e-9,'I-E Weight':0.1e-9,'E-I Weight':0.6e-9,'I-I Weight':0.15e-9,'Background Noise Weight':80.0e-9,'E-Drive Weight':50.0e-9,'I-Drive Weight':1.5e-9,'Background Noise Frequency':8.0}               \n",
    "\n",
    "schizparams = {'Filename': 'schiz_model','Random Seed': 12345,'E-E Weight':30.0e-9,'I-E Weight':0.05e-9,'E-I Weight':0.6e-9,'I-I Weight':0.15e-9,'Background Noise Weight':80.0e-9,'E-Drive Weight':50.0e-9,'I-Drive Weight':1.5e-9,'Background Noise Frequency':8.0}  \n"
   ]
  },
  {
   "cell_type": "markdown",
   "metadata": {},
   "source": [
    "### Model"
   ]
  },
  {
   "cell_type": "code",
   "execution_count": 7,
   "metadata": {
    "collapsed": false
   },
   "outputs": [],
   "source": [
    "test_model = BeemanGenesisModel(controlparams,schizparams)"
   ]
  },
  {
   "cell_type": "markdown",
   "metadata": {},
   "source": [
    "### Tests "
   ]
  },
  {
   "cell_type": "code",
   "execution_count": null,
   "metadata": {
    "collapsed": false,
    "scrolled": true
   },
   "outputs": [
    {
     "name": "stdout",
     "output_type": "stream",
     "text": [
      "Generating control model\n",
      "Running control model\n",
      "/home/cm15acr/ASSRUnit/Code\n",
      "/home/cm15acr/ASSRUnit/Code/ACnet2-Genesis\n",
      " genesis ACnet2-batch-new-standard.g control_model 40.0 12345 3e-08 1e-10 6e-10 1.5e-10 8e-08 5e-08 1.5e-09 8.0\n",
      "Reading EPSC_sum_control_model.txt\n",
      "100001  lines\n",
      "/home/cm15acr/ASSRUnit/Code\n",
      "3.11602935391e-14\n",
      "Generating schizophrenia model\n",
      "Running schizophrenia model\n",
      "/home/cm15acr/ASSRUnit/Code\n",
      "/home/cm15acr/ASSRUnit/Code/ACnet2-Genesis\n",
      " genesis ACnet2-batch-new-standard.g schiz_model 40.0 12345 3e-08 5e-11 6e-10 1.5e-10 8e-08 5e-08 1.5e-09 8.0\n",
      "Reading EPSC_sum_schiz_model.txt\n",
      "100001  lines\n",
      "/home/cm15acr/ASSRUnit/Code\n",
      "3.05123198809e-14\n",
      "3.11602935391e-14\n",
      "Fail\n",
      "Generating control model\n",
      "Running control model\n",
      "/home/cm15acr/ASSRUnit/Code\n",
      "/home/cm15acr/ASSRUnit/Code/ACnet2-Genesis\n",
      " genesis ACnet2-batch-new-standard.g control_model 30.0 12345 3e-08 1e-10 6e-10 1.5e-10 8e-08 5e-08 1.5e-09 8.0\n",
      "Reading EPSC_sum_control_model.txt\n",
      "100001  lines\n",
      "/home/cm15acr/ASSRUnit/Code\n",
      "2.65117699312e-14\n",
      "Generating schizophrenia model\n",
      "Running schizophrenia model\n",
      "/home/cm15acr/ASSRUnit/Code\n",
      "/home/cm15acr/ASSRUnit/Code/ACnet2-Genesis\n",
      " genesis ACnet2-batch-new-standard.g schiz_model 30.0 12345 3e-08 5e-11 6e-10 1.5e-10 8e-08 5e-08 1.5e-09 8.0\n",
      "Reading EPSC_sum_schiz_model.txt\n",
      "100001  lines\n",
      "/home/cm15acr/ASSRUnit/Code\n",
      "2.63948479675e-14\n",
      "Pass\n",
      "Generating control model\n",
      "Running control model\n",
      "/home/cm15acr/ASSRUnit/Code\n",
      "/home/cm15acr/ASSRUnit/Code/ACnet2-Genesis\n",
      " genesis ACnet2-batch-new-standard.g control_model 20.0 12345 3e-08 1e-10 6e-10 1.5e-10 8e-08 5e-08 1.5e-09 8.0\n",
      "Reading EPSC_sum_control_model.txt\n",
      "100001  lines\n",
      "/home/cm15acr/ASSRUnit/Code\n",
      "1.6377714745e-14\n",
      "Generating schizophrenia model\n",
      "Running schizophrenia model\n",
      "/home/cm15acr/ASSRUnit/Code\n",
      "/home/cm15acr/ASSRUnit/Code/ACnet2-Genesis\n",
      " genesis ACnet2-batch-new-standard.g schiz_model 20.0 12345 3e-08 5e-11 6e-10 1.5e-10 8e-08 5e-08 1.5e-09 8.0\n",
      "Reading EPSC_sum_schiz_model.txt\n",
      "100001  lines\n",
      "/home/cm15acr/ASSRUnit/Code\n",
      "1.63894607604e-14\n",
      "Pass\n",
      "Generating control model\n",
      "Running control model\n",
      "/home/cm15acr/ASSRUnit/Code\n",
      "/home/cm15acr/ASSRUnit/Code/ACnet2-Genesis\n",
      " genesis ACnet2-batch-new-standard.g control_model 20.0 12345 3e-08 1e-10 6e-10 1.5e-10 8e-08 5e-08 1.5e-09 8.0\n",
      "Reading EPSC_sum_control_model.txt\n",
      "100001  lines\n",
      "/home/cm15acr/ASSRUnit/Code\n",
      "9.20273278677e-15\n",
      "Generating schizophrenia model\n",
      "Running schizophrenia model\n",
      "/home/cm15acr/ASSRUnit/Code\n",
      "/home/cm15acr/ASSRUnit/Code/ACnet2-Genesis\n",
      " genesis ACnet2-batch-new-standard.g schiz_model 20.0 12345 3e-08 5e-11 6e-10 1.5e-10 8e-08 5e-08 1.5e-09 8.0\n"
     ]
    }
   ],
   "source": [
    "test_4040 = Test4040(observation={'ratio':0.5})\n",
    "score_4040 = test_4040.judge(test_model)\n",
    "\n",
    "test_3030 = Test3030(observation={'ratio':1.0})\n",
    "score_3030 = test_3030.judge(test_model)\n",
    "\n",
    "test_2020 = Test2020(observation={'ratio':1.0})\n",
    "score_2020 = test_2020.judge(test_model)\n",
    "\n",
    "test_2040 = Test2040(observation={'ratio':1.0})\n",
    "score_2040 = test_2040.judge(test_model)\n",
    "\n",
    "test_4020 = Test4020(observation={'ratio':1.0})\n",
    "score_4020 = test_4020.judge(test_model)\n",
    "\n",
    "print 'Results 4040:\\n'\n",
    "print score_4040\n",
    "print '\\n Results 3030:\\n'\n",
    "print score_3030\n",
    "print '\\n Results 2020:\\n'\n",
    "print score_2020\n",
    "print '\\n Results 2040:\\n'\n",
    "print score_2040\n",
    "print '\\n Results 4020:\\n'\n",
    "print score_4020\n"
   ]
  },
  {
   "cell_type": "code",
   "execution_count": null,
   "metadata": {
    "collapsed": true
   },
   "outputs": [],
   "source": []
  }
 ],
 "metadata": {
  "kernelspec": {
   "display_name": "Python 2",
   "language": "python",
   "name": "python2"
  },
  "language_info": {
   "codemirror_mode": {
    "name": "ipython",
    "version": 2
   },
   "file_extension": ".py",
   "mimetype": "text/x-python",
   "name": "python",
   "nbconvert_exporter": "python",
   "pygments_lexer": "ipython2",
   "version": "2.7.9"
  }
 },
 "nbformat": 4,
 "nbformat_minor": 1
}
