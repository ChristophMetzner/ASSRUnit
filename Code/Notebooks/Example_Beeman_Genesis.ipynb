{
 "cells": [
  {
   "cell_type": "markdown",
   "metadata": {},
   "source": [
    "### Using the simple model from Beeman (2013) [modified version Metzner et al. 2016] \n",
    "A short example demonstrating how to use the simle model from Beeman (2013)\n",
    "\n",
    "\n",
    "Note: change the path in the cell below to match your file system!"
   ]
  },
  {
   "cell_type": "code",
   "execution_count": 1,
   "metadata": {
    "collapsed": false
   },
   "outputs": [
    {
     "name": "stderr",
     "output_type": "stream",
     "text": [
      "/usr/local/lib/python2.7/dist-packages/pandas-0.19.2-py2.7-linux-x86_64.egg/pandas/computation/__init__.py:19: UserWarning: The installed version of numexpr 2.4.4 is not supported in pandas and will be not be used\n",
      "\n",
      "  UserWarning)\n"
     ]
    }
   ],
   "source": [
    "import sciunit\n",
    "import sys\n",
    "\n",
    "sys.path.append(\"/home/cm15acr/ASSRUnit/Code\")\n",
    "\n",
    "from capabilities import ProduceXY\n",
    "\n",
    "from models import BeemanGenesisModel\n",
    "\n",
    "from testsAndPredictionTests import Test4040,Test3030,Test2020,Test2040,Test4020"
   ]
  },
  {
   "cell_type": "markdown",
   "metadata": {},
   "source": [
    "### Parameters"
   ]
  },
  {
   "cell_type": "code",
   "execution_count": 2,
   "metadata": {
    "collapsed": true
   },
   "outputs": [],
   "source": [
    "controlparams = {'Filename': 'control_model','Random Seed': 12345,'E-E Weight':30.0e-9,'I-E Weight':0.1e-9,'E-I Weight':0.6e-9,'I-I Weight':0.15e-9,'Background Noise Weight':80.0e-9,'E-Drive Weight':50.0e-9,'I-Drive Weight':1.5e-9,'Background Noise Frequency':8.0}               \n",
    "\n",
    "schizparams = {'Filename': 'schiz_model','Random Seed': 12345,'E-E Weight':30.0e-9,'I-E Weight':0.05e-9,'E-I Weight':0.6e-9,'I-I Weight':0.15e-9,'Background Noise Weight':80.0e-9,'E-Drive Weight':50.0e-9,'I-Drive Weight':1.5e-9,'Background Noise Frequency':8.0}  \n"
   ]
  },
  {
   "cell_type": "markdown",
   "metadata": {},
   "source": [
    "### Model"
   ]
  },
  {
   "cell_type": "code",
   "execution_count": 3,
   "metadata": {
    "collapsed": false
   },
   "outputs": [],
   "source": [
    "test_model = BeemanGenesisModel(controlparams,schizparams)"
   ]
  },
  {
   "cell_type": "markdown",
   "metadata": {},
   "source": [
    "### Tests "
   ]
  },
  {
   "cell_type": "code",
   "execution_count": null,
   "metadata": {
    "collapsed": false,
    "scrolled": true
   },
   "outputs": [
    {
     "name": "stdout",
     "output_type": "stream",
     "text": [
      "Generating control model\n",
      "Running control model\n",
      "/home/cm15acr/ASSRUnit/Code/Notebooks\n",
      "running simulation\n"
     ]
    }
   ],
   "source": [
    "test_4040 = Test4040(observation={'ratio':0.5})\n",
    "score_4040 = test_4040.judge(test_model)\n",
    "\n",
    "test_3030 = Test3030(observation={'ratio':1.0})\n",
    "score_3030 = test_3030.judge(test_model)\n",
    "\n",
    "test_2020 = Test2020(observation={'ratio':1.0})\n",
    "score_2020 = test_2020.judge(test_model)\n",
    "\n",
    "test_2040 = Test2040(observation={'ratio':1.0})\n",
    "score_2040 = test_2040.judge(test_model)\n",
    "\n",
    "test_4020 = Test4020(observation={'ratio':1.0})\n",
    "score_4020 = test_4020.judge(test_model)\n",
    "\n",
    "print '\\n\\n Results 4040:\\n'\n",
    "print score_4040\n",
    "print '\\n Results 3030:\\n'\n",
    "print score_3030\n",
    "print '\\n Results 2020:\\n'\n",
    "print score_2020\n",
    "print '\\n Results 2040:\\n'\n",
    "print score_2040\n",
    "print '\\n Results 4020:\\n'\n",
    "print score_4020\n"
   ]
  },
  {
   "cell_type": "code",
   "execution_count": null,
   "metadata": {
    "collapsed": true
   },
   "outputs": [],
   "source": []
  }
 ],
 "metadata": {
  "kernelspec": {
   "display_name": "Python 2",
   "language": "python",
   "name": "python2"
  },
  "language_info": {
   "codemirror_mode": {
    "name": "ipython",
    "version": 2
   },
   "file_extension": ".py",
   "mimetype": "text/x-python",
   "name": "python",
   "nbconvert_exporter": "python",
   "pygments_lexer": "ipython2",
   "version": "2.7.9"
  }
 },
 "nbformat": 4,
 "nbformat_minor": 1
}
