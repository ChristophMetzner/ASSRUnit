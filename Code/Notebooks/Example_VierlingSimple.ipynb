{
 "cells": [
  {
   "cell_type": "markdown",
   "metadata": {},
   "source": [
    "### Using the simple model from Vierling-Claassen et al (2008)\n",
    "A short example demonstrating how to use the simle model from Vierling-Claasen et al. (2008)\n",
    "\n",
    "\n",
    "Note: change the path in the cell below to match your file system!"
   ]
  },
  {
   "cell_type": "code",
   "execution_count": 1,
   "metadata": {
    "collapsed": false
   },
   "outputs": [
    {
     "name": "stderr",
     "output_type": "stream",
     "text": [
      "/usr/local/lib/python2.7/dist-packages/pandas-0.19.2-py2.7-linux-x86_64.egg/pandas/computation/__init__.py:19: UserWarning: The installed version of numexpr 2.4.4 is not supported in pandas and will be not be used\n",
      "\n",
      "  UserWarning)\n"
     ]
    },
    {
     "ename": "ImportError",
     "evalue": "cannot import name Test4040",
     "output_type": "error",
     "traceback": [
      "\u001b[0;31m---------------------------------------------------------------------------\u001b[0m",
      "\u001b[0;31mImportError\u001b[0m                               Traceback (most recent call last)",
      "\u001b[0;32m<ipython-input-1-107480790547>\u001b[0m in \u001b[0;36m<module>\u001b[0;34m()\u001b[0m\n\u001b[1;32m      8\u001b[0m \u001b[0;32mfrom\u001b[0m \u001b[0mmodels\u001b[0m \u001b[0;32mimport\u001b[0m \u001b[0mVierlingSimpleModel\u001b[0m\u001b[0;34m\u001b[0m\u001b[0m\n\u001b[1;32m      9\u001b[0m \u001b[0;34m\u001b[0m\u001b[0m\n\u001b[0;32m---> 10\u001b[0;31m \u001b[0;32mfrom\u001b[0m \u001b[0mtests\u001b[0m \u001b[0;32mimport\u001b[0m \u001b[0mTest4040\u001b[0m\u001b[0;34m,\u001b[0m\u001b[0mTest3030\u001b[0m\u001b[0;34m,\u001b[0m\u001b[0mTest2020\u001b[0m\u001b[0;34m,\u001b[0m\u001b[0mTest2040\u001b[0m\u001b[0;34m,\u001b[0m\u001b[0mTest4020\u001b[0m\u001b[0;34m\u001b[0m\u001b[0m\n\u001b[0m",
      "\u001b[0;31mImportError\u001b[0m: cannot import name Test4040"
     ]
    }
   ],
   "source": [
    "import sciunit\n",
    "import sys\n",
    "\n",
    "sys.path.append(\"/home/cm15acr/ASSRUnit/Code\")\n",
    "\n",
    "from capabilities import ProduceXY\n",
    "\n",
    "from models import VierlingSimpleModel\n",
    "\n",
    "from testsAndPredictionTests import Test4040,Test3030,Test2020,Test2040,Test4020"
   ]
  },
  {
   "cell_type": "markdown",
   "metadata": {},
   "source": [
    "### Parameters"
   ]
  },
  {
   "cell_type": "code",
   "execution_count": 2,
   "metadata": {
    "collapsed": true
   },
   "outputs": [],
   "source": [
    "controlparams = {'n_ex': 20,'n_inh': 10,'eta': 5.0,'tau_R': 0.1,'tau_ex': 2.0,'tau_inh': 8.0,'g_ee': 0.015,'g_ei': 0.025,'g_ie': 0.015,'g_ii': 0.02,'g_de': 0.3,'g_di': 0.08,'dt': 0.05,'b_ex': -0.01,'b_inh': -0.01,'background_rate': 33.3,'A': 0.5,'seed': 12345,'filename': 'default','directory': '/'}\n",
    "\n",
    "schizparams = {'n_ex': 20,'n_inh': 10,'eta': 5.0,'tau_R': 0.1,'tau_ex': 2.0,'tau_inh': 28.0,'g_ee': 0.015,'g_ei': 0.025,'g_ie': 0.015,'g_ii': 0.02,'g_de': 0.3,'g_di': 0.08,'dt': 0.05,'b_ex': -0.01,'b_inh': -0.01,'background_rate': 33.3,'A': 0.5,'seed': 12345,'filename': 'default','directory': '/'}"
   ]
  },
  {
   "cell_type": "markdown",
   "metadata": {},
   "source": [
    "### Model"
   ]
  },
  {
   "cell_type": "code",
   "execution_count": 3,
   "metadata": {
    "collapsed": true
   },
   "outputs": [],
   "source": [
    "test_model = VierlingSimpleModel(controlparams,schizparams)"
   ]
  },
  {
   "cell_type": "markdown",
   "metadata": {},
   "source": [
    "### Tests "
   ]
  },
  {
   "cell_type": "code",
   "execution_count": 4,
   "metadata": {
    "collapsed": false
   },
   "outputs": [
    {
     "name": "stdout",
     "output_type": "stream",
     "text": [
      "Control model created\n",
      "Control model simulated\n",
      "Control PSD calculated\n",
      "Schiz model created\n",
      "Schiz model simulated\n",
      "Schiz PSD calculated\n",
      "Pass\n",
      "Control model created\n",
      "Control model simulated\n",
      "Control PSD calculated\n",
      "Schiz model created\n",
      "Schiz model simulated\n",
      "Schiz PSD calculated\n",
      "Fail\n",
      "Control model created\n",
      "Control model simulated\n",
      "Control PSD calculated\n",
      "Schiz model created\n"
     ]
    },
    {
     "ename": "KeyboardInterrupt",
     "evalue": "",
     "output_type": "error",
     "traceback": [
      "\u001b[0;31m---------------------------------------------------------------------------\u001b[0m",
      "\u001b[0;31mKeyboardInterrupt\u001b[0m                         Traceback (most recent call last)",
      "\u001b[0;32m<ipython-input-4-074e9f06d4b6>\u001b[0m in \u001b[0;36m<module>\u001b[0;34m()\u001b[0m\n\u001b[1;32m      8\u001b[0m \u001b[0;34m\u001b[0m\u001b[0m\n\u001b[1;32m      9\u001b[0m \u001b[0mtest_2020\u001b[0m \u001b[0;34m=\u001b[0m \u001b[0mTest2020\u001b[0m\u001b[0;34m(\u001b[0m\u001b[0mobservation\u001b[0m\u001b[0;34m=\u001b[0m\u001b[0;34m{\u001b[0m\u001b[0;34m'ratio'\u001b[0m\u001b[0;34m:\u001b[0m\u001b[0;36m1.0\u001b[0m\u001b[0;34m}\u001b[0m\u001b[0;34m)\u001b[0m\u001b[0;34m\u001b[0m\u001b[0m\n\u001b[0;32m---> 10\u001b[0;31m \u001b[0mscore_2020\u001b[0m \u001b[0;34m=\u001b[0m \u001b[0mtest_2020\u001b[0m\u001b[0;34m.\u001b[0m\u001b[0mjudge\u001b[0m\u001b[0;34m(\u001b[0m\u001b[0mtest_model\u001b[0m\u001b[0;34m)\u001b[0m\u001b[0;34m\u001b[0m\u001b[0m\n\u001b[0m\u001b[1;32m     11\u001b[0m \u001b[0;32mprint\u001b[0m \u001b[0mscore_2020\u001b[0m\u001b[0;34m\u001b[0m\u001b[0m\n\u001b[1;32m     12\u001b[0m \u001b[0;34m\u001b[0m\u001b[0m\n",
      "\u001b[0;32m/usr/local/lib/python2.7/dist-packages/sciunit-0.1.5.2-py2.7.egg/sciunit/__init__.pyc\u001b[0m in \u001b[0;36mjudge\u001b[0;34m(self, model, stop_on_error, deep_error, verbose)\u001b[0m\n\u001b[1;32m    235\u001b[0m     \u001b[0;32melse\u001b[0m\u001b[0;34m:\u001b[0m\u001b[0;34m\u001b[0m\u001b[0m\n\u001b[1;32m    236\u001b[0m       \u001b[0;32mtry\u001b[0m\u001b[0;34m:\u001b[0m\u001b[0;34m\u001b[0m\u001b[0m\n\u001b[0;32m--> 237\u001b[0;31m         \u001b[0mscore\u001b[0m \u001b[0;34m=\u001b[0m \u001b[0mself\u001b[0m\u001b[0;34m.\u001b[0m\u001b[0m_judge\u001b[0m\u001b[0;34m(\u001b[0m\u001b[0mmodel\u001b[0m\u001b[0;34m,\u001b[0m \u001b[0mverbose\u001b[0m\u001b[0;34m=\u001b[0m\u001b[0mverbose\u001b[0m\u001b[0;34m)\u001b[0m\u001b[0;34m\u001b[0m\u001b[0m\n\u001b[0m\u001b[1;32m    238\u001b[0m       \u001b[0;32mexcept\u001b[0m \u001b[0mCapabilityError\u001b[0m \u001b[0;32mas\u001b[0m \u001b[0me\u001b[0m\u001b[0;34m:\u001b[0m\u001b[0;34m\u001b[0m\u001b[0m\n\u001b[1;32m    239\u001b[0m         \u001b[0mscore\u001b[0m \u001b[0;34m=\u001b[0m \u001b[0mNAScore\u001b[0m\u001b[0;34m(\u001b[0m\u001b[0me\u001b[0m\u001b[0;34m)\u001b[0m\u001b[0;34m\u001b[0m\u001b[0m\n",
      "\u001b[0;32m/usr/local/lib/python2.7/dist-packages/sciunit-0.1.5.2-py2.7.egg/sciunit/__init__.pyc\u001b[0m in \u001b[0;36m_judge\u001b[0;34m(self, model, verbose)\u001b[0m\n\u001b[1;32m    186\u001b[0m       \u001b[0mself\u001b[0m\u001b[0;34m.\u001b[0m\u001b[0mcheck_capabilities\u001b[0m\u001b[0;34m(\u001b[0m\u001b[0mmodel\u001b[0m\u001b[0;34m)\u001b[0m\u001b[0;34m\u001b[0m\u001b[0m\n\u001b[1;32m    187\u001b[0m       \u001b[0;31m# 2.\u001b[0m\u001b[0;34m\u001b[0m\u001b[0;34m\u001b[0m\u001b[0m\n\u001b[0;32m--> 188\u001b[0;31m       \u001b[0mprediction\u001b[0m \u001b[0;34m=\u001b[0m \u001b[0mself\u001b[0m\u001b[0;34m.\u001b[0m\u001b[0mgenerate_prediction\u001b[0m\u001b[0;34m(\u001b[0m\u001b[0mmodel\u001b[0m\u001b[0;34m)\u001b[0m\u001b[0;31m#, verbose=verbose)\u001b[0m\u001b[0;34m\u001b[0m\u001b[0m\n\u001b[0m\u001b[1;32m    189\u001b[0m       \u001b[0mself\u001b[0m\u001b[0;34m.\u001b[0m\u001b[0mlast_model\u001b[0m \u001b[0;34m=\u001b[0m \u001b[0mmodel\u001b[0m\u001b[0;34m\u001b[0m\u001b[0m\n\u001b[1;32m    190\u001b[0m       \u001b[0;31m# 3.\u001b[0m\u001b[0;34m\u001b[0m\u001b[0;34m\u001b[0m\u001b[0m\n",
      "\u001b[0;32m/home/cm15acr/ASSRUnit/Code/tests2.py\u001b[0m in \u001b[0;36mgenerate_prediction\u001b[0;34m(self, model)\u001b[0m\n\u001b[1;32m     65\u001b[0m \u001b[0;34m\u001b[0m\u001b[0m\n\u001b[1;32m     66\u001b[0m     \u001b[0;32mdef\u001b[0m \u001b[0mgenerate_prediction\u001b[0m\u001b[0;34m(\u001b[0m\u001b[0mself\u001b[0m\u001b[0;34m,\u001b[0m \u001b[0mmodel\u001b[0m\u001b[0;34m)\u001b[0m\u001b[0;34m:\u001b[0m\u001b[0;34m\u001b[0m\u001b[0m\n\u001b[0;32m---> 67\u001b[0;31m         \u001b[0;34m[\u001b[0m\u001b[0mcontrol2020\u001b[0m\u001b[0;34m,\u001b[0m\u001b[0mschiz2020\u001b[0m\u001b[0;34m]\u001b[0m \u001b[0;34m=\u001b[0m \u001b[0mmodel\u001b[0m\u001b[0;34m.\u001b[0m\u001b[0mproduce_XY\u001b[0m\u001b[0;34m(\u001b[0m\u001b[0;36m20.0\u001b[0m\u001b[0;34m,\u001b[0m\u001b[0;36m20.0\u001b[0m\u001b[0;34m)\u001b[0m \u001b[0;31m# The model has this method if it inherits from the 'ProduceXY' capability.\u001b[0m\u001b[0;34m\u001b[0m\u001b[0m\n\u001b[0m\u001b[1;32m     68\u001b[0m         \u001b[0;32mreturn\u001b[0m \u001b[0;34m[\u001b[0m\u001b[0mcontrol2020\u001b[0m\u001b[0;34m,\u001b[0m\u001b[0mschiz2020\u001b[0m\u001b[0;34m]\u001b[0m\u001b[0;34m\u001b[0m\u001b[0m\n\u001b[1;32m     69\u001b[0m \u001b[0;34m\u001b[0m\u001b[0m\n",
      "\u001b[0;32m/home/cm15acr/ASSRUnit/Code/models.py\u001b[0m in \u001b[0;36mproduce_XY\u001b[0;34m(self, stimfrequency, powerfrequency)\u001b[0m\n\u001b[1;32m     41\u001b[0m         \u001b[0mschiz_model\u001b[0m \u001b[0;34m=\u001b[0m \u001b[0msimpleModel\u001b[0m\u001b[0;34m(\u001b[0m\u001b[0mself\u001b[0m\u001b[0;34m.\u001b[0m\u001b[0mschizparams\u001b[0m\u001b[0;34m)\u001b[0m\u001b[0;34m\u001b[0m\u001b[0m\n\u001b[1;32m     42\u001b[0m         \u001b[0;32mprint\u001b[0m \u001b[0;34m'Schiz model created'\u001b[0m\u001b[0;34m\u001b[0m\u001b[0m\n\u001b[0;32m---> 43\u001b[0;31m         \u001b[0mschiz_meg\u001b[0m\u001b[0;34m,\u001b[0m\u001b[0m_\u001b[0m\u001b[0;34m,\u001b[0m\u001b[0m_\u001b[0m \u001b[0;34m=\u001b[0m \u001b[0mschiz_model\u001b[0m\u001b[0;34m.\u001b[0m\u001b[0mrun\u001b[0m\u001b[0;34m(\u001b[0m\u001b[0mstimfrequency\u001b[0m\u001b[0;34m,\u001b[0m\u001b[0mself\u001b[0m\u001b[0;34m.\u001b[0m\u001b[0mseed\u001b[0m\u001b[0;34m,\u001b[0m\u001b[0mself\u001b[0m\u001b[0;34m.\u001b[0m\u001b[0mtime\u001b[0m\u001b[0;34m,\u001b[0m\u001b[0;36m0\u001b[0m\u001b[0;34m,\u001b[0m\u001b[0;36m0\u001b[0m\u001b[0;34m,\u001b[0m\u001b[0;36m0\u001b[0m\u001b[0;34m)\u001b[0m\u001b[0;34m\u001b[0m\u001b[0m\n\u001b[0m\u001b[1;32m     44\u001b[0m         \u001b[0;32mprint\u001b[0m \u001b[0;34m'Schiz model simulated'\u001b[0m\u001b[0;34m\u001b[0m\u001b[0m\n\u001b[1;32m     45\u001b[0m         \u001b[0mschiz_pxx\u001b[0m\u001b[0;34m,\u001b[0m\u001b[0mfreqs\u001b[0m \u001b[0;34m=\u001b[0m \u001b[0mschiz_model\u001b[0m\u001b[0;34m.\u001b[0m\u001b[0mcalculatePSD\u001b[0m\u001b[0;34m(\u001b[0m\u001b[0mschiz_meg\u001b[0m\u001b[0;34m,\u001b[0m\u001b[0mself\u001b[0m\u001b[0;34m.\u001b[0m\u001b[0mtime\u001b[0m\u001b[0;34m)\u001b[0m\u001b[0;34m\u001b[0m\u001b[0m\n",
      "\u001b[0;32m/home/cm15acr/ASSRUnit/Code/Modules/Vierling.pyc\u001b[0m in \u001b[0;36mrun\u001b[0;34m(self, drive_frequency, seed, time, saveMEG, saveEX, saveINH)\u001b[0m\n\u001b[1;32m    158\u001b[0m             \u001b[0;32mfor\u001b[0m \u001b[0mi\u001b[0m \u001b[0;32min\u001b[0m \u001b[0mrange\u001b[0m\u001b[0;34m(\u001b[0m\u001b[0mself\u001b[0m\u001b[0;34m.\u001b[0m\u001b[0mn_ex\u001b[0m\u001b[0;34m)\u001b[0m\u001b[0;34m:\u001b[0m\u001b[0;34m\u001b[0m\u001b[0m\n\u001b[1;32m    159\u001b[0m                 \u001b[0;32mfor\u001b[0m \u001b[0mtn\u001b[0m \u001b[0;32min\u001b[0m \u001b[0mST_ex\u001b[0m\u001b[0;34m[\u001b[0m\u001b[0mi\u001b[0m\u001b[0;34m]\u001b[0m\u001b[0;34m:\u001b[0m\u001b[0;34m\u001b[0m\u001b[0m\n\u001b[0;32m--> 160\u001b[0;31m                     \u001b[0mN_ex\u001b[0m\u001b[0;34m[\u001b[0m\u001b[0mi\u001b[0m\u001b[0;34m,\u001b[0m\u001b[0mt\u001b[0m\u001b[0;34m]\u001b[0m \u001b[0;34m=\u001b[0m \u001b[0mN_ex\u001b[0m\u001b[0;34m[\u001b[0m\u001b[0mi\u001b[0m\u001b[0;34m,\u001b[0m\u001b[0mt\u001b[0m\u001b[0;34m]\u001b[0m \u001b[0;34m+\u001b[0m \u001b[0mself\u001b[0m\u001b[0;34m.\u001b[0m\u001b[0m_noise\u001b[0m\u001b[0;34m(\u001b[0m\u001b[0mt\u001b[0m\u001b[0;34m,\u001b[0m\u001b[0mtn\u001b[0m\u001b[0;34m)\u001b[0m\u001b[0;34m\u001b[0m\u001b[0m\n\u001b[0m\u001b[1;32m    161\u001b[0m \u001b[0;34m\u001b[0m\u001b[0m\n\u001b[1;32m    162\u001b[0m             \u001b[0;31m# calculate noise (not done in a very efficient way!)\u001b[0m\u001b[0;34m\u001b[0m\u001b[0;34m\u001b[0m\u001b[0m\n",
      "\u001b[0;32m/home/cm15acr/ASSRUnit/Code/Modules/Vierling.pyc\u001b[0m in \u001b[0;36m_noise\u001b[0;34m(self, t, tn)\u001b[0m\n\u001b[1;32m    359\u001b[0m         \u001b[0mt\u001b[0m  \u001b[0;34m=\u001b[0m \u001b[0mt\u001b[0m \u001b[0;34m*\u001b[0m \u001b[0mself\u001b[0m\u001b[0;34m.\u001b[0m\u001b[0mdt\u001b[0m\u001b[0;34m\u001b[0m\u001b[0m\n\u001b[1;32m    360\u001b[0m         \u001b[0;32mif\u001b[0m \u001b[0mt\u001b[0m\u001b[0;34m-\u001b[0m\u001b[0mtn\u001b[0m\u001b[0;34m>\u001b[0m\u001b[0;36m0\u001b[0m\u001b[0;34m:\u001b[0m\u001b[0;34m\u001b[0m\u001b[0m\n\u001b[0;32m--> 361\u001b[0;31m                 \u001b[0mvalue\u001b[0m \u001b[0;34m=\u001b[0m \u001b[0;34m(\u001b[0m\u001b[0mself\u001b[0m\u001b[0;34m.\u001b[0m\u001b[0mA\u001b[0m\u001b[0;34m*\u001b[0m\u001b[0;34m(\u001b[0m\u001b[0mnp\u001b[0m\u001b[0;34m.\u001b[0m\u001b[0mexp\u001b[0m\u001b[0;34m(\u001b[0m\u001b[0;34m-\u001b[0m\u001b[0;34m(\u001b[0m\u001b[0mt\u001b[0m\u001b[0;34m-\u001b[0m\u001b[0mtn\u001b[0m\u001b[0;34m)\u001b[0m\u001b[0;34m/\u001b[0m\u001b[0mself\u001b[0m\u001b[0;34m.\u001b[0m\u001b[0mtau_ex\u001b[0m\u001b[0;34m)\u001b[0m\u001b[0;34m-\u001b[0m\u001b[0mnp\u001b[0m\u001b[0;34m.\u001b[0m\u001b[0mexp\u001b[0m\u001b[0;34m(\u001b[0m\u001b[0;34m-\u001b[0m\u001b[0;34m(\u001b[0m\u001b[0mt\u001b[0m\u001b[0;34m-\u001b[0m\u001b[0mtn\u001b[0m\u001b[0;34m)\u001b[0m\u001b[0;34m/\u001b[0m\u001b[0mself\u001b[0m\u001b[0;34m.\u001b[0m\u001b[0mtau_R\u001b[0m\u001b[0;34m)\u001b[0m\u001b[0;34m)\u001b[0m\u001b[0;34m)\u001b[0m\u001b[0;34m/\u001b[0m\u001b[0;34m(\u001b[0m\u001b[0mself\u001b[0m\u001b[0;34m.\u001b[0m\u001b[0mtau_ex\u001b[0m\u001b[0;34m-\u001b[0m\u001b[0mself\u001b[0m\u001b[0;34m.\u001b[0m\u001b[0mtau_R\u001b[0m\u001b[0;34m)\u001b[0m\u001b[0;34m\u001b[0m\u001b[0m\n\u001b[0m\u001b[1;32m    362\u001b[0m         \u001b[0;32melse\u001b[0m\u001b[0;34m:\u001b[0m\u001b[0;34m\u001b[0m\u001b[0m\n\u001b[1;32m    363\u001b[0m                 \u001b[0mvalue\u001b[0m \u001b[0;34m=\u001b[0m \u001b[0;36m0\u001b[0m\u001b[0;34m\u001b[0m\u001b[0m\n",
      "\u001b[0;31mKeyboardInterrupt\u001b[0m: "
     ]
    }
   ],
   "source": [
    "test_4040 = Test4040(observation={'ratio':0.5})\n",
    "score_4040 = test_4040.judge(test_model)\n",
    "print score_4040\n",
    "\n",
    "test_3030 = Test3030(observation={'ratio':1.0})\n",
    "score_3030 = test_3030.judge(test_model)\n",
    "print score_3030\n",
    "\n",
    "test_2020 = Test2020(observation={'ratio':1.0})\n",
    "score_2020 = test_2020.judge(test_model)\n",
    "print score_2020\n",
    "\n",
    "test_2040 = Test2040(observation={'ratio':1.0})\n",
    "score_2040 = test_2040.judge(test_model)\n",
    "print score_2040\n",
    "\n",
    "test_4020 = Test4020(observation={'ratio':1.0})\n",
    "score_4020 = test_4020.judge(test_model)\n",
    "print score_4020\n"
   ]
  },
  {
   "cell_type": "markdown",
   "metadata": {},
   "source": [
    "### A test suite"
   ]
  },
  {
   "cell_type": "code",
   "execution_count": 5,
   "metadata": {
    "collapsed": false
   },
   "outputs": [
    {
     "name": "stdout",
     "output_type": "stream",
     "text": [
      "Executing Reduction of 40Hz power to 40Hz drive on VierlingSimpleModel\n",
      "Control model created\n",
      "Control model simulated\n",
      "Control PSD calculated\n",
      "Schiz model created\n",
      "Schiz model simulated\n",
      "Schiz PSD calculated\n",
      "Executing No change of 30Hz power to 30Hz drive on VierlingSimpleModel\n",
      "Control model created\n",
      "Control model simulated\n",
      "Control PSD calculated\n",
      "Schiz model created\n",
      "Schiz model simulated\n",
      "Schiz PSD calculated\n",
      "Executing Increase of 20Hz power to 20Hz drive on VierlingSimpleModel\n",
      "Control model created\n",
      "Control model simulated\n",
      "Control PSD calculated\n",
      "Schiz model created\n",
      "Schiz model simulated\n",
      "Schiz PSD calculated\n",
      "Executing Decrease of 40Hz power to 20Hz drive on VierlingSimpleModel\n",
      "Control model created\n",
      "Control model simulated\n",
      "Control PSD calculated\n",
      "Schiz model created\n",
      "Schiz model simulated\n",
      "Schiz PSD calculated\n",
      "Executing Increase of 20Hz power to 40Hz drive on VierlingSimpleModel\n",
      "Control model created\n",
      "Control model simulated\n",
      "Control PSD calculated\n",
      "Schiz model created\n",
      "Schiz model simulated\n",
      "Schiz PSD calculated\n"
     ]
    },
    {
     "data": {
      "text/html": [
       "<html><body><table border=\"1\" class=\"dataframe\" id=\"4409396417010461481\">\n",
       "<thead>\n",
       "<tr style=\"text-align: right;\">\n",
       "<th></th>\n",
       "<th title=\"Tests if the model predicts the reduction of 40Hz power in the \n",
       "\t'schizophrenia-like' network compared to the control network.\">Reduction of 40Hz power to 40Hz drive</th>\n",
       "<th title=\"Tests if the model predicts the unchanged 30Hz power in the \n",
       "\t'schizophrenia-like' network compared to the control network.\">No change of 30Hz power to 30Hz drive</th>\n",
       "<th title=\"Tests if the model predicts the increase in 20Hz power in the \n",
       "\t'schizophrenia-like' network compared to the control network.\">Increase of 20Hz power to 20Hz drive</th>\n",
       "<th title=\"Tests if the model predicts the decrease in 40Hz power at 20Hz drive in the \n",
       "\t'schizophrenia-like' network compared to the control network.\">Decrease of 40Hz power to 20Hz drive</th>\n",
       "<th title=\"Tests if the model predicts the increase in 20Hz power at 40Hz drive in the \n",
       "\t'schizophrenia-like' network compared to the control network.\">Increase of 20Hz power to 40Hz drive</th>\n",
       "</tr>\n",
       "</thead>\n",
       "<tbody>\n",
       "<tr>\n",
       "<th title=\"The simple model from Vierling-Claassen et al. (2008)\">VierlingSimpleModel</th>\n",
       "<td style=\"background-color: rgb(255,255,255);\" title=\"Passing score if the prediction is smaller than the observation\">Pass</td>\n",
       "<td style=\"background-color: rgb(255,0,0);\" title=\"Passing score if the prediction equals the observation (witin a given range)\">Fail</td>\n",
       "<td style=\"background-color: rgb(255,255,255);\" title=\"Passing score if the prediction is larger than the observation\">Pass</td>\n",
       "<td style=\"background-color: rgb(255,255,255);\" title=\"Passing score if the prediction is larger than the observation\">Pass</td>\n",
       "<td style=\"background-color: rgb(255,255,255);\" title=\"Passing score if the prediction is larger than the observation\">Pass</td>\n",
       "</tr>\n",
       "</tbody>\n",
       "</table></body></html>"
      ],
      "text/plain": [
       "<IPython.core.display.HTML object>"
      ]
     },
     "execution_count": 5,
     "metadata": {},
     "output_type": "execute_result"
    }
   ],
   "source": [
    "kwon_vierling_main_suite = sciunit.TestSuite('kwon_vierling_main',[test_4040,test_3030,test_2020,test_4020,test_2040])\n",
    "score_matrix = kwon_vierling_main_suite.judge(test_model)\n",
    "score_matrix.view()"
   ]
  },
  {
   "cell_type": "code",
   "execution_count": null,
   "metadata": {
    "collapsed": true
   },
   "outputs": [],
   "source": []
  }
 ],
 "metadata": {
  "kernelspec": {
   "display_name": "Python 2",
   "language": "python",
   "name": "python2"
  },
  "language_info": {
   "codemirror_mode": {
    "name": "ipython",
    "version": 2
   },
   "file_extension": ".py",
   "mimetype": "text/x-python",
   "name": "python",
   "nbconvert_exporter": "python",
   "pygments_lexer": "ipython2",
   "version": "2.7.9"
  }
 },
 "nbformat": 4,
 "nbformat_minor": 1
}
