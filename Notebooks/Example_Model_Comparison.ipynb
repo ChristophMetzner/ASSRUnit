{
 "cells": [
  {
   "cell_type": "markdown",
   "metadata": {},
   "source": [
    "## Example_Model_Comparison2\n",
    "This notebook demonstrates how two different models can be compared against each other\n",
    "and against experimental data."
   ]
  },
  {
   "cell_type": "markdown",
   "metadata": {},
   "source": [
    "### Note:\n",
    "It is important here to stress the difference between conceptual/theoretical models and implementations of network models. In the example below, we will compare two conceptual models against each other \n",
    "\n",
    "Conceptual Model 1: Prolonged decay times at inhibitory synapses result in schizophrenia-like ASSRs in the gamma and beta band.\n",
    "\n",
    "Conceptual Model 2: Reduced excitation of inhibitory neurons results in schizophrenia-like ASSRs in the gamma and beta band.\n",
    "\n",
    "However, both conceptual models are implemented using the same network model implementation, although, obviously, with different parameters.\n"
   ]
  },
  {
   "cell_type": "code",
   "execution_count": 3,
   "metadata": {
    "collapsed": false,
    "scrolled": true
   },
   "outputs": [],
   "source": [
    "%matplotlib inline\n",
    "import sciunit\n",
    "import sys\n",
    "\n",
    "sys.path.append(\"/home/cm15acr/ASSRUnit/Code\")\n",
    "\n",
    "from capabilities import ProduceXY\n",
    "\n",
    "from models import VierlingSimpleModel\n",
    "\n",
    "from testsAndPredictionTests import Test4040,Test3030,Test2020,Test2040,Test4020"
   ]
  },
  {
   "cell_type": "markdown",
   "metadata": {},
   "source": [
    "### Parameters"
   ]
  },
  {
   "cell_type": "code",
   "execution_count": 4,
   "metadata": {
    "collapsed": true
   },
   "outputs": [],
   "source": [
    "# Conceptual/theoretical model 1\n",
    "controlparams_model_1 = {'n_ex': 20,'n_inh': 10,'eta': 5.0,'tau_R': 0.1,'tau_ex': 2.0,'tau_inh': 8.0,'g_ee': 0.015,'g_ei': 0.025,'g_ie': 0.015,'g_ii': 0.02,'g_de': 0.3,'g_di': 0.08,'dt': 0.05,'b_ex': -0.01,'b_inh': -0.01,'background_rate': 33.3,'A': 0.5,'seed': 12345,'filename': 'default','directory': '/'}\n",
    "schizparams_model_1 = {'n_ex': 20,'n_inh': 10,'eta': 5.0,'tau_R': 0.1,'tau_ex': 2.0,'tau_inh': 28.0,'g_ee': 0.015,'g_ei': 0.025,'g_ie': 0.015,'g_ii': 0.02,'g_de': 0.3,'g_di': 0.08,'dt': 0.05,'b_ex': -0.01,'b_inh': -0.01,'background_rate': 33.3,'A': 0.5,'seed': 12345,'filename': 'default','directory': '/'}\n",
    "\n",
    "controlparams_model_2 = {'n_ex': 20,'n_inh': 10,'eta': 5.0,'tau_R': 0.1,'tau_ex': 2.0,'tau_inh': 8.0,'g_ee': 0.015,'g_ei': 0.025,'g_ie': 0.015,'g_ii': 0.02,'g_de': 0.3,'g_di': 0.08,'dt': 0.05,'b_ex': -0.01,'b_inh': -0.01,'background_rate': 33.3,'A': 0.5,'seed': 12345,'filename': 'default','directory': '/'}\n",
    "schizparams_model_2 = {'n_ex': 20,'n_inh': 10,'eta': 5.0,'tau_R': 0.1,'tau_ex': 2.0,'tau_inh': 8.0,'g_ee': 0.015,'g_ei': 0.015,'g_ie': 0.015,'g_ii': 0.02,'g_de': 0.3,'g_di': 0.08,'dt': 0.05,'b_ex': -0.01,'b_inh': -0.01,'background_rate': 33.3,'A': 0.5,'seed': 12345,'filename': 'default','directory': '/'}"
   ]
  },
  {
   "cell_type": "markdown",
   "metadata": {},
   "source": [
    "### Model instances"
   ]
  },
  {
   "cell_type": "code",
   "execution_count": 5,
   "metadata": {
    "collapsed": false
   },
   "outputs": [],
   "source": [
    "conceptual_model_1 = VierlingSimpleModel(controlparams_model_1,schizparams_model_1,name='Conceptual_model_1')\n",
    "conceptual_model_2 = VierlingSimpleModel(controlparams_model_2,schizparams_model_2,name='Conceptual_model_2')"
   ]
  },
  {
   "cell_type": "markdown",
   "metadata": {},
   "source": [
    "### Tests (note that observations are not yet from the experimental database!!)"
   ]
  },
  {
   "cell_type": "code",
   "execution_count": 6,
   "metadata": {
    "collapsed": false
   },
   "outputs": [],
   "source": [
    "test_4040 = Test4040(observation={'ratio':0.5})\n",
    "test_3030 = Test3030(observation={'ratio':1.0})\n",
    "test_2020 = Test2020(observation={'ratio':1.0})\n",
    "test_2040 = Test2040(observation={'ratio':1.0})\n",
    "test_4020 = Test4020(observation={'ratio':1.0})"
   ]
  },
  {
   "cell_type": "markdown",
   "metadata": {},
   "source": [
    "### A test suite"
   ]
  },
  {
   "cell_type": "code",
   "execution_count": null,
   "metadata": {
    "collapsed": false
   },
   "outputs": [
    {
     "name": "stdout",
     "output_type": "stream",
     "text": [
      "Executing Reduction of 40Hz power to 40Hz drive on Conceptual_model_1\n",
      "Control model created\n",
      "Control model simulated\n",
      "Control PSD calculated\n",
      "Schiz model created\n",
      "Schiz model simulated\n",
      "Schiz PSD calculated\n",
      "Executing No change of 30Hz power to 30Hz drive on Conceptual_model_1\n",
      "Control model created\n",
      "Control model simulated\n",
      "Control PSD calculated\n",
      "Schiz model created\n",
      "Schiz model simulated\n",
      "Schiz PSD calculated\n",
      "Executing Increase of 20Hz power to 20Hz drive on Conceptual_model_1\n",
      "Control model created\n",
      "Control model simulated\n",
      "Control PSD calculated\n",
      "Schiz model created\n"
     ]
    }
   ],
   "source": [
    "kwon_vierling_main_suite = sciunit.TestSuite('kwon_vierling_main',[test_4040,test_3030,test_2020,test_4020,test_2040])\n",
    "score_matrix = kwon_vierling_main_suite.judge([conceptual_model_1,conceptual_model_2])\n",
    "score_matrix.view()"
   ]
  },
  {
   "cell_type": "code",
   "execution_count": null,
   "metadata": {
    "collapsed": true
   },
   "outputs": [],
   "source": []
  }
 ],
 "metadata": {
  "kernelspec": {
   "display_name": "Python 2",
   "language": "python",
   "name": "python2"
  },
  "language_info": {
   "codemirror_mode": {
    "name": "ipython",
    "version": 2
   },
   "file_extension": ".py",
   "mimetype": "text/x-python",
   "name": "python",
   "nbconvert_exporter": "python",
   "pygments_lexer": "ipython2",
   "version": "2.7.9"
  }
 },
 "nbformat": 4,
 "nbformat_minor": 1
}
